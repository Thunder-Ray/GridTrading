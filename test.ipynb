{
 "cells": [
  {
   "cell_type": "code",
   "execution_count": 1,
   "metadata": {},
   "outputs": [
    {
     "data": {
      "text/plain": [
       "array('i', [0, 0, 0, 0, 0, 0, 0, 0, 0, 0])"
      ]
     },
     "execution_count": 1,
     "metadata": {},
     "output_type": "execute_result"
    }
   ],
   "source": [
    "import array\n",
    "a = array.array('i',(0 for i in range(0,10)))\n",
    "a"
   ]
  },
  {
   "cell_type": "code",
   "execution_count": 4,
   "metadata": {},
   "outputs": [
    {
     "data": {
      "text/plain": [
       "0"
      ]
     },
     "execution_count": 4,
     "metadata": {},
     "output_type": "execute_result"
    }
   ],
   "source": [
    "GRID_LEVELS = 10 #网格数量\n",
    "TOTAL_FUND = 1000000\n",
    "a = [0 for i in range(0,GRID_LEVELS+1)]  \n",
    "a[10]"
   ]
  },
  {
   "cell_type": "code",
   "execution_count": 8,
   "metadata": {},
   "outputs": [],
   "source": [
    "RESULT_FILE = 'Output/result.txt' #Monitor all price changes\n",
    "f = open(RESULT_FILE, \"w\")"
   ]
  },
  {
   "cell_type": "code",
   "execution_count": 9,
   "metadata": {},
   "outputs": [
    {
     "name": "stdout",
     "output_type": "stream",
     "text": [
      "level: 0, price: 9.514656876067487\n",
      "level: 1, price: 9.609803444828163\n",
      "level: 2, price: 9.705901479276445\n",
      "level: 3, price: 9.802960494069207\n",
      "level: 4, price: 9.900990099009901\n",
      "level: 5, price: 10.0\n",
      "level: 6, price: 10.1\n",
      "level: 7, price: 10.201\n",
      "level: 8, price: 10.30301\n",
      "level: 9, price: 10.4060401\n",
      "level: 10, price: 10.510100501000002\n"
     ]
    }
   ],
   "source": [
    "INTERVAL = 0.01\n",
    "basePrice = 10\n",
    "\n",
    "def grid_price(level):\n",
    "    return basePrice * (1 + INTERVAL) ** (level - GRID_LEVELS / 2)\n",
    "\n",
    "basePrice = 10.0\n",
    "for i in range(0, GRID_LEVELS+1):\n",
    "    print(f'level: {i}, price: {grid_price(i)}')"
   ]
  }
 ],
 "metadata": {
  "kernelspec": {
   "display_name": "Python 3",
   "language": "python",
   "name": "python3"
  },
  "language_info": {
   "codemirror_mode": {
    "name": "ipython",
    "version": 3
   },
   "file_extension": ".py",
   "mimetype": "text/x-python",
   "name": "python",
   "nbconvert_exporter": "python",
   "pygments_lexer": "ipython3",
   "version": "3.11.6"
  }
 },
 "nbformat": 4,
 "nbformat_minor": 2
}
